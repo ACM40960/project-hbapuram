{
  "nbformat": 4,
  "nbformat_minor": 0,
  "metadata": {
    "colab": {
      "provenance": []
    },
    "kernelspec": {
      "name": "python3",
      "display_name": "Python 3"
    },
    "language_info": {
      "name": "python"
    }
  },
  "cells": [
    {
      "cell_type": "markdown",
      "source": [
        "In this file, we merge the preprocessed text and financial data to get the final combined data file stored as `<company>_combined.csv` in the DATA folder"
      ],
      "metadata": {
        "id": "muE-V10XmRo-"
      }
    },
    {
      "cell_type": "code",
      "execution_count": 1,
      "metadata": {
        "id": "veqiofHUfZbX"
      },
      "outputs": [],
      "source": [
        "#importing the pandas library\n",
        "import pandas as pd"
      ]
    },
    {
      "cell_type": "code",
      "source": [
        "#Loading the prepocessed text files from the text-preprocessed file in the DATA folder\n",
        "aapl_text = pd.read_csv(\"/content/drive/MyDrive/Project UCD/Combined Data/filled_aapl.csv\", index_col='date')\n",
        "goog_text = pd.read_csv(\"/content/drive/MyDrive/Project UCD/Combined Data/filled_goog.csv\", index_col='date')\n",
        "msft_text = pd.read_csv(\"/content/drive/MyDrive/Project UCD/Combined Data/filled_msft.csv\", index_col='date')\n",
        "nvda_text = pd.read_csv(\"/content/drive/MyDrive/Project UCD/Combined Data/filled_nvda.csv\", index_col='date')\n",
        "tsla_text = pd.read_csv(\"/content/drive/MyDrive/Project UCD/Combined Data/filled_tsla.csv\", index_col='date')"
      ],
      "metadata": {
        "id": "wSnd-Na7ff3I"
      },
      "execution_count": null,
      "outputs": []
    },
    {
      "cell_type": "code",
      "source": [
        "#Loading the prepocessed financial data files from the financial-preprocessed file in the DATA folder\n",
        "aapl_fin = pd.read_csv(\"/content/drive/MyDrive/Project UCD/Combined Data/aapl_ticker.csv\", index_col='date')\n",
        "goog_fin = pd.read_csv(\"/content/drive/MyDrive/Project UCD/Combined Data/goog_ticker.csv\", index_col='date')\n",
        "msft_fin = pd.read_csv(\"/content/drive/MyDrive/Project UCD/Combined Data/msft_ticker.csv\", index_col='date')\n",
        "nvda_fin = pd.read_csv(\"/content/drive/MyDrive/Project UCD/Combined Data/nvda_ticker.csv\", index_col='date')\n",
        "tsla_fin = pd.read_csv(\"/content/drive/MyDrive/Project UCD/Combined Data/tsla_ticker.csv\", index_col='date')"
      ],
      "metadata": {
        "id": "FooOhS6Ifkfc"
      },
      "execution_count": null,
      "outputs": []
    },
    {
      "cell_type": "code",
      "source": [
        "#combining the two files using pandas concat function\n",
        "aapl_combined = pd.concat([aapl_fin, aapl_text], axis=1)\n",
        "goog_combined = pd.concat([goog_fin, goog_text], axis=1)\n",
        "msft_combined = pd.concat([msft_fin, msft_text], axis=1)\n",
        "nvda_combined = pd.concat([nvda_fin, nvda_text], axis=1)\n",
        "tsla_combined = pd.concat([tsla_fin, tsla_text], axis=1)"
      ],
      "metadata": {
        "id": "x2x___P3gIlU"
      },
      "execution_count": null,
      "outputs": []
    },
    {
      "cell_type": "code",
      "source": [
        "#printing shapes to verify uniformity\n",
        "print(aapl_combined.shape)\n",
        "print(goog_combined.shape)\n",
        "print(msft_combined.shape)\n",
        "print(nvda_combined.shape)\n",
        "print(tsla_combined.shape)"
      ],
      "metadata": {
        "colab": {
          "base_uri": "https://localhost:8080/"
        },
        "id": "vUKCMeE9gPH_",
        "outputId": "7519fcdc-2262-419a-e903-a8e28819ad4e"
      },
      "execution_count": null,
      "outputs": [
        {
          "output_type": "stream",
          "name": "stdout",
          "text": [
            "(123, 10)\n",
            "(123, 10)\n",
            "(123, 10)\n",
            "(123, 10)\n",
            "(123, 10)\n",
            "(123, 10)\n"
          ]
        }
      ]
    },
    {
      "cell_type": "code",
      "source": [
        "#exporting saved CSV to folder (code commented - data available in DATA folder)\n",
        "#aapl_combined.to_csv('/content/drive/MyDrive/Project UCD/Combined Data/aapl_combined.csv', index=True)\n",
        "#goog_combined.to_csv('/content/drive/MyDrive/Project UCD/Combined Data/goog_combined.csv', index=True)\n",
        "#msft_combined.to_csv('/content/drive/MyDrive/Project UCD/Combined Data/msft_combined.csv', index=True)\n",
        "#nvda_combined.to_csv('/content/drive/MyDrive/Project UCD/Combined Data/nvda_combined.csv', index=True)\n",
        "#tsla_combined.to_csv('/content/drive/MyDrive/Project UCD/Combined Data/tsla_combined.csv', index=True)"
      ],
      "metadata": {
        "id": "O9qS2fH1giVo"
      },
      "execution_count": null,
      "outputs": []
    }
  ]
}